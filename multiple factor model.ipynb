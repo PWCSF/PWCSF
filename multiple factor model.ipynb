{
 "cells": [
  {
   "cell_type": "code",
   "execution_count": null,
   "metadata": {},
   "outputs": [],
   "source": [
    "'''\n",
    "构建单个因子：\n",
    "\n",
    "红三兵”:\n",
    "\n",
    "条件1、2、3、4\n",
    "出现“红三兵”，看涨，记为1，否则记为0。\n",
    "同时满足这5条时，买入信号即触发，即我们给它评1分，否则评0分。\n",
    "\n",
    "\n",
    "构建多因子的组合：\n",
    "\n",
    "现在，我们需要把这两个预测因子融合成一个预测。 对于这类问题，基本的思路就是线性组合。 \n",
    "那么，问题转化为，如何求得一个权重， 使得两个预测因子的线性组合达到“最优”。\n",
    "\n",
    "步骤一：构建预测因子的组合\n",
    "步骤二：计算理论上最优的权重\n",
    "步骤三：调整理论上最优的权重\n",
    "\n",
    "## chap chap7\n",
    "'''"
   ]
  },
  {
   "cell_type": "code",
   "execution_count": null,
   "metadata": {},
   "outputs": [],
   "source": [
    "'''\n",
    "构造单因子：\n",
    "\n",
    "1、构造因子，即判断方法（方法！）\n",
    "2、用该方法对所选池子（标的）打分  # 可以为同一时刻的横截面  也可以为同一标的的时间序列\n",
    "3、检测与改进（所构造的抽象因子与实际标的物的联系，若为预测因子，回溯历史，出现因子后，第二天年的标的为多少，求一个平均。用该平均作为预测数。\n",
    "              接着，看一下不同种类标的物在时间上的分布，尽量使分布接近，可以考虑标准化\n",
    "              再有，连续两天出现同一信号的自相关性问题：\n",
    "                  如果短期内连续出现两次“红三兵”，预测收益是否加倍？ 这就要考虑到红三兵这个信号本身的自相关性了。 如果自相关性高，预测收益大体应该是不变的； \n",
    "                  如果自相关性低，那么预测收益翻倍好像也没什么问题。 这自相关性究竟如何影响，也有很多可以研究的东西\n",
    "              ）\n",
    "\n",
    "'''"
   ]
  },
  {
   "cell_type": "code",
   "execution_count": null,
   "metadata": {},
   "outputs": [],
   "source": [
    "'''\n",
    "标准化方法：\n",
    "\n",
    "接下来把我们的预测标准化。 标准化的方法很多：\n",
    "\n",
    "算法：\n",
    "减均值，再除以标准差\n",
    "利用正态分位数，把预测映射为正态分布\n",
    "利用S型函数，把预测极化\n",
    "\n",
    "数据：\n",
    "利用时间序列数据，每只股票分别标准化\n",
    "利用截面数据，每日分别标准化\n",
    "利用面板数据，统一标准化\n",
    "我们先采用相对简单的方法：使用面板数据，直接使用减均值再除以标准差的方法，统一进行标准化：\n",
    "\n",
    "\n",
    "排名：\n",
    "接下来，我们需要在每天按上述比例给股票排名，然后将排名标准化。有读者可能会产生一个疑问，为什么不直接把上述比例作为原始预测？\n",
    "实际上，这并非不可以。只是，我们需要考虑到，我们要选的，并非仅仅只是要涨的股票，而更应该选择比业绩基准涨得更好的股票。\n",
    "那么，我们就需要在股票间横向比较每个指标。\n",
    "那么，具体怎么标准化呢？一个简单而合理的方法是：！！！！！以排名的分位数作为正态分布的分位数，将排名映射为标准正态分布上的一个值！！！！。 \n",
    "\n",
    "然后，我们把排名转化为分位数，比如，我们有50只股票，则排第一名的（即最小的）股票的分位数为1/51。\n",
    "然后，我们把这个分位数看作正态分布的分位数，将其映射到一个正态分布上。比如，分位数为0.5的就映射到0，分位数为0.95的，就映射到1.64。 \n",
    "这里需要用到SciPy这个包，我们这里先使用它，在本章的末尾，我们在详细介绍这个包。\n",
    "\n",
    "\n",
    "前面，我们对动量信号进行过一次初步的标准化。为什么叫“初步”呢？因为，我们是在截面标准化的，\n",
    "在时间序列层面，不同股票的动量信号可能波动率完全不同。\n",
    "可以看出，不同股票间，动量信号的波动率分布在0.4到1.5之间，相差较大。 那么，导致这种差异的原因是什么？\n",
    "一个自然的想法是，不同股票的主动收益本来就分布不同，有的波动大，有的波动小。 这自然导致其动量信号也是同样，有的波动大，有的波动小。 \n",
    "那我们可以画图对比一下，我们先画不同股票信号波动率的柱状图：\n",
    "\n",
    "相关关系的散点图！！！！\n",
    "从以上两个图中，我们可以粗略看出，确实前面说的性质，波动率本来就较高的股票，其动量信号的波动率也较高。 \n",
    "那么，二者之间有没有什么相对确定性的关系呢？我们先作个相关关系的散点图：\n",
    "意味着回归的R方可达0.87。从p值看，回归非常显著。但截距项的存在却让人困惑，要知道，其自变量和因变量都是标准差，不可能为负。\n",
    "而截距项的存在就可能引入负的标准差。故，我们将其关系简化为无截距项的线性关系\n",
    "\n",
    "# chap4\n",
    "'''"
   ]
  },
  {
   "cell_type": "code",
   "execution_count": null,
   "metadata": {},
   "outputs": [],
   "source": []
  },
  {
   "cell_type": "markdown",
   "metadata": {},
   "source": [
    "# 数据预处理"
   ]
  },
  {
   "cell_type": "code",
   "execution_count": null,
   "metadata": {},
   "outputs": [],
   "source": [
    "# skleran中的数据预处理package：preprocessing"
   ]
  },
  {
   "cell_type": "code",
   "execution_count": 63,
   "metadata": {},
   "outputs": [
    {
     "name": "stdout",
     "output_type": "stream",
     "text": [
      "基于mean和std的标准化: \n",
      " [[ 1.41421356 -1.33630621  1.37281295]\n",
      " [-0.70710678  1.06904497 -0.39223227]\n",
      " [-0.70710678  0.26726124 -0.98058068]]\n"
     ]
    },
    {
     "name": "stderr",
     "output_type": "stream",
     "text": [
      "D:\\Anaconda\\lib\\site-packages\\sklearn\\utils\\validation.py:475: DataConversionWarning: Data with input dtype int32 was converted to float64 by StandardScaler.\n",
      "  warnings.warn(msg, DataConversionWarning)\n"
     ]
    }
   ],
   "source": [
    "import sklearn.preprocessing as sk_preprocessing\n",
    "\n",
    "X = np.array([[1, -1, 2], [0, 2, -1], [0, 1, -2]])\n",
    "scaler = sk_preprocessing.StandardScaler().fit(X)\n",
    "new_X = scaler.transform(X)\n",
    "print('基于mean和std的标准化:','\\n',new_X)"
   ]
  },
  {
   "cell_type": "code",
   "execution_count": null,
   "metadata": {},
   "outputs": [],
   "source": []
  },
  {
   "cell_type": "code",
   "execution_count": null,
   "metadata": {},
   "outputs": [],
   "source": []
  },
  {
   "cell_type": "code",
   "execution_count": null,
   "metadata": {},
   "outputs": [],
   "source": []
  },
  {
   "cell_type": "code",
   "execution_count": null,
   "metadata": {},
   "outputs": [],
   "source": []
  },
  {
   "cell_type": "code",
   "execution_count": null,
   "metadata": {},
   "outputs": [],
   "source": []
  },
  {
   "cell_type": "code",
   "execution_count": null,
   "metadata": {},
   "outputs": [],
   "source": []
  },
  {
   "cell_type": "code",
   "execution_count": null,
   "metadata": {},
   "outputs": [],
   "source": []
  },
  {
   "cell_type": "code",
   "execution_count": null,
   "metadata": {},
   "outputs": [],
   "source": []
  },
  {
   "cell_type": "code",
   "execution_count": null,
   "metadata": {},
   "outputs": [],
   "source": []
  },
  {
   "cell_type": "code",
   "execution_count": null,
   "metadata": {},
   "outputs": [],
   "source": []
  },
  {
   "cell_type": "code",
   "execution_count": null,
   "metadata": {},
   "outputs": [],
   "source": []
  },
  {
   "cell_type": "code",
   "execution_count": null,
   "metadata": {},
   "outputs": [],
   "source": []
  },
  {
   "cell_type": "code",
   "execution_count": null,
   "metadata": {},
   "outputs": [],
   "source": []
  },
  {
   "cell_type": "code",
   "execution_count": null,
   "metadata": {},
   "outputs": [],
   "source": []
  },
  {
   "cell_type": "code",
   "execution_count": null,
   "metadata": {},
   "outputs": [],
   "source": []
  },
  {
   "cell_type": "code",
   "execution_count": null,
   "metadata": {},
   "outputs": [],
   "source": []
  },
  {
   "cell_type": "code",
   "execution_count": null,
   "metadata": {},
   "outputs": [],
   "source": []
  },
  {
   "cell_type": "code",
   "execution_count": null,
   "metadata": {},
   "outputs": [],
   "source": []
  },
  {
   "cell_type": "markdown",
   "metadata": {},
   "source": [
    "# 降维"
   ]
  },
  {
   "cell_type": "markdown",
   "metadata": {},
   "source": [
    "## 1.PCA"
   ]
  },
  {
   "cell_type": "code",
   "execution_count": null,
   "metadata": {},
   "outputs": [],
   "source": [
    "sklearn.decomposition.PCA(n_components=None, copy=True, whiten=False)\n",
    "\n",
    "#在Python中，主成分的函数位于Scikit-Learn下：\n",
    "\n",
    "#n_components \n",
    "意义：PCA算法中所要保留的主成分个数n，也即保留下来的特征个数。也可以是设置解释变量的比例。6如：pca =PCA(n_components=.98)\n",
    "类型：int或者string，缺省时默认为None，所有成分保留。赋值为int，比如n_components=1，将把原始数据降到一个维度。赋值为string，比如n_components=’mle’，将自动选取特征个数n，使得满足所要求的方差百分比。\n",
    "#copy \n",
    "类型：bool,True或者False，缺省时默认为True\n",
    "意义：表示是否在运行算法时，将原始数据复制一份。如果为True，则运行PCA算法后，原始数据的值不会有任何改变。因为是在原始数据的副本上进行运算的。\n",
    "#whiten \n",
    "类型：bool，缺省时默认为False\n",
    "意义：白化，使每个特征具有相同的方差。"
   ]
  },
  {
   "cell_type": "code",
   "execution_count": 22,
   "metadata": {},
   "outputs": [
    {
     "name": "stdout",
     "output_type": "stream",
     "text": [
      "[[-0.42218643  0.74061864  0.20812925  0.4795048 ]\n",
      " [ 0.7337101   0.2975068   0.60605029 -0.07656529]\n",
      " [-0.36621964  0.29594779  0.18922151 -0.86168051]\n",
      " [-0.38640818 -0.52477485  0.74402989  0.1473757 ]]\n",
      "[0.50200672 0.25363314 0.20304278 0.04131736]\n"
     ]
    }
   ],
   "source": [
    "from sklearn.decomposition import PCA\n",
    "import numpy as np\n",
    "import pandas as pd\n",
    "\n",
    "data=np.random.randn(10,4)\n",
    "\n",
    "pca=PCA()\n",
    "pca.fit(data)\n",
    "print(pca.components_)  #返回模型的各个特征向量\n",
    "print(pca.explained_variance_ratio_)  #返回各个成分各自的方差百分比（贡献率）"
   ]
  },
  {
   "cell_type": "code",
   "execution_count": 43,
   "metadata": {
    "scrolled": false
   },
   "outputs": [
    {
     "name": "stdout",
     "output_type": "stream",
     "text": [
      "PCA:\n",
      "降维后的各主成分的方差值 [2.09395799 1.23289477 0.41614443 0.33777045]\n",
      "降维后的各主成分的方差值占总方差值的比例 [0.51312846 0.30212325 0.101977   0.0827713 ]\n",
      "降维后的特征数 4\n",
      "[[-0.33095869  0.52658496  0.60754031  0.54220488]\n",
      " [ 0.98597754  0.13437707  0.95798877  0.00664784]\n",
      " [ 0.58328556  0.15583563  1.88045476  0.82807577]\n",
      " [-0.42088892  0.12127442  0.35514766 -1.52033959]\n",
      " [ 0.02356802 -1.60513112  0.6098355  -0.22279694]\n",
      " [ 0.1218651   2.68337842 -0.09410503 -0.33080685]\n",
      " [ 0.27507978 -0.2513356   1.12869059  0.97197306]\n",
      " [ 1.18514199 -0.31652605 -2.65678332 -1.44581785]\n",
      " [-0.8951009   0.97903633 -0.18117349  0.86310321]\n",
      " [-0.56465117  0.34840582  0.99487694  1.21928118]] \n",
      "\n",
      " [[-0.54447152  0.3293705   0.3005723   0.117898  ]\n",
      " [-0.25471975 -0.41136953 -0.83446559 -0.49595918]\n",
      " [-1.53772881 -0.37354418 -0.64163319 -0.43611525]\n",
      " [ 0.84395179 -0.20721745 -0.58572204  1.33814069]\n",
      " [ 0.02625173 -1.86950932  0.21252621  0.41215313]\n",
      " [ 0.53734172  2.34213169 -0.63050482 -0.03320123]\n",
      " [-1.06989981 -0.57630383  0.12428711 -0.43105007]\n",
      " [ 3.50435213 -0.47150306  0.28918122 -0.64560669]\n",
      " [-0.22329298  1.02795149  1.10995981  0.15954755]\n",
      " [-1.2817845   0.2099937   0.65579898  0.01419304]]\n"
     ]
    }
   ],
   "source": [
    "# 先用PCA函数处理，再用fit 或fit_transform训练\n",
    "\n",
    "data1 = np.random.randn(10,4)\n",
    "pca1 = PCA(n_components=None,copy=True,whiten=False,svd_solver='auto')   # 有点问题  如果第一个参数为‘mle’就会没有值\n",
    "newdata1 = pca1.fit_transform(data1)   # 如果只用fit的话  下面打印newdata1则只是PCA类  而不会显示新的处理后的值\n",
    "\n",
    "print('PCA:')\n",
    "print ('降维后的各主成分的方差值',pca1.explained_variance_)\n",
    "print ('降维后的各主成分的方差值占总方差值的比例',pca1.explained_variance_ratio_)   # 方差值用来衡量贡献度，对模型的解释程度\n",
    "print ('降维后的特征数',pca1.n_components_)     # 个数\n",
    "print(data1,'\\n\\n',newdata1)\n",
    "\n",
    "\n",
    "# 最大方差理论：信号具有较大的方差，噪声具有较小的方差\n",
    "# PCA的目标：新坐标系上数据的方差越大越好\n",
    "# PCA是无监督的学习方法\n",
    "\n",
    "\n",
    "#  PCA对象的三个属性：pca1.explained_variance_    pca1.explained_variance_ratio_      pca1.n_components_\n",
    "#   fit(X): 用数据X来训练PCA模型。    fit_transform(X)：用X来训练PCA模型，同时返回降维后的数据。\n",
    "#   区别  如果只用fit的话  下面打印newdata1则只是PCA类  而不会显示新的处理后的值"
   ]
  },
  {
   "cell_type": "code",
   "execution_count": 53,
   "metadata": {},
   "outputs": [
    {
     "name": "stdout",
     "output_type": "stream",
     "text": [
      "PCA:\n",
      "降维后的各主成分的方差值 [1.69327186 1.24155598 0.43537623]\n",
      "降维后的各主成分的方差值占总方差值的比例 [0.4507669  0.33051535 0.11590176]\n",
      "降维后的特征数 3\n",
      "[[-0.03462271  1.36377809  1.78494501  0.10039456]\n",
      " [-0.32464303  1.30407222 -0.90726569 -0.55667514]\n",
      " [ 1.20659481  1.09544893  0.60074613 -0.57687963]\n",
      " [-0.58491169  0.15958531 -1.02152334 -0.70746014]\n",
      " [-0.00988675  0.55367759  0.33634171  0.96402401]\n",
      " [ 1.12549157 -1.05063873  0.5717232   0.86421684]\n",
      " [ 1.00272418 -0.98453791 -1.94809757 -0.78814229]\n",
      " [ 0.83815348 -0.30356232 -0.50583919 -1.77248688]\n",
      " [ 0.7045165   0.84919656  0.7010834   0.29116148]\n",
      " [-0.05419727 -1.86297124  1.47271103 -0.15077229]] \n",
      "\n",
      " [[-1.97270708 -0.72683586  0.27419827]\n",
      " [ 0.58036846 -1.56044671 -0.45896874]\n",
      " [-0.51720342 -0.70316208  0.991417  ]\n",
      " [ 1.08140211 -0.5911528  -0.64390942]\n",
      " [-0.87741921 -0.2204324  -0.96198776]\n",
      " [-0.4606803   1.51394316 -0.2928466 ]\n",
      " [ 2.35375277  0.47528219 -0.13657669]\n",
      " [ 1.34771706  0.04471703  1.09284507]\n",
      " [-0.93653187 -0.3878146   0.09667405]\n",
      " [-0.59869852  2.15590206  0.03915482]]\n"
     ]
    }
   ],
   "source": [
    "data1 = np.random.randn(10,4)\n",
    "pca1 = PCA(n_components=0.85,copy=True,whiten=False,svd_solver='auto')   \n",
    "# n_components 的值越接近1，给出的主特征值越多。故应该是累积被解释的部分（阈值）\n",
    "# 注意三个解释部分的比例之和就是大于0.85的  可以改成0.99来验证\n",
    "newdata1 = pca1.fit_transform(data1)    # ！！！！！！这个应该是求解出来的特征向量（即要解释的部分的“基”）\n",
    "\n",
    "print('PCA:')\n",
    "print ('降维后的各主成分的方差值',pca1.explained_variance_)\n",
    "print ('降维后的各主成分的方差值占总方差值的比例',pca1.explained_variance_ratio_)   # 方差值用来衡量贡献度，对模型的解释程度\n",
    "print ('降维后的特征数',pca1.n_components_)     # 个数\n",
    "print(data1,'\\n\\n',newdata1)"
   ]
  },
  {
   "cell_type": "code",
   "execution_count": 30,
   "metadata": {},
   "outputs": [
    {
     "name": "stdout",
     "output_type": "stream",
     "text": [
      "[[-1 -1]\n",
      " [-2 -1]\n",
      " [-3 -2]\n",
      " [ 1  1]\n",
      " [ 2  1]\n",
      " [ 3  2]]\n",
      "[[ 1.38340578  0.2935787 ]\n",
      " [ 2.22189802 -0.25133484]\n",
      " [ 3.6053038   0.04224385]\n",
      " [-1.38340578 -0.2935787 ]\n",
      " [-2.22189802  0.25133484]\n",
      " [-3.6053038  -0.04224385]]\n",
      "[0.99244289 0.00755711]\n",
      "\n",
      "\n",
      "\n",
      "[[ 1.38340578]\n",
      " [ 2.22189802]\n",
      " [ 3.6053038 ]\n",
      " [-1.38340578]\n",
      " [-2.22189802]\n",
      " [-3.6053038 ]]\n",
      "[0.99244289]\n"
     ]
    }
   ],
   "source": [
    "import numpy as np\n",
    "from sklearn.decomposition import PCA\n",
    "X = np.array([[-1, -1], [-2, -1], [-3, -2], [1, 1], [2, 1], [3, 2]])\n",
    "pca2 = PCA(n_components=2)\n",
    "newX = pca2.fit_transform(X)\n",
    "print(X)\n",
    "print(newX)\n",
    "print(pca2.explained_variance_ratio_)   # 可以看出第一个特征解释了大部分变量  故可以直接降到一维\n",
    "\n",
    "print('\\n\\n',)\n",
    "pca4 = PCA(n_components=1)\n",
    "newXX = pca4.fit_transform(X)\n",
    "print(newXX)\n",
    "print(pca4.explained_variance_ratio_)"
   ]
  },
  {
   "cell_type": "code",
   "execution_count": null,
   "metadata": {},
   "outputs": [],
   "source": [
    "pca=PCA(3)  # 指定维度个数\n",
    "pca.fit(data)\n",
    "low_d=pca.transform(data)  #用这个方法来降低维度\n",
    "pd.DataFrame(low_d).to_excel('result.xlsx')  #保存结果\n",
    "\n",
    "#pca.inverse_transform(low_d)  #必要时，可以用这个函数来复原数据。"
   ]
  },
  {
   "cell_type": "code",
   "execution_count": null,
   "metadata": {},
   "outputs": [],
   "source": []
  },
  {
   "cell_type": "code",
   "execution_count": 55,
   "metadata": {},
   "outputs": [
    {
     "name": "stderr",
     "output_type": "stream",
     "text": [
      "D:\\Anaconda\\lib\\site-packages\\matplotlib\\collections.py:902: RuntimeWarning: invalid value encountered in sqrt\n",
      "  scale = np.sqrt(self._sizes) * dpi / 72.0 * self._factor\n"
     ]
    },
    {
     "data": {
      "image/png": "[encoded data removed]",
      "text/plain": [
       "<Figure size 432x288 with 1 Axes>"
      ]
     },
     "metadata": {},
     "output_type": "display_data"
    }
   ],
   "source": [
    "import numpy as np\n",
    "import matplotlib.pyplot as plt\n",
    "from mpl_toolkits.mplot3d import Axes3D\n",
    "from sklearn.datasets.samples_generator import make_blobs\n",
    "\n",
    "# X为样本特征，Y为样本簇类别， 共1000个样本，每个样本3个特征，共4个簇\n",
    "X, y = make_blobs(n_samples=10000, n_features=3, centers=[[3,3, 3], [0,0,0], [1,1,1], [2,2,2]], cluster_std=[0.2, 0.1, 0.2, 0.2], \n",
    "                  random_state =9)\n",
    "fig = plt.figure()\n",
    "ax = Axes3D(fig, rect=[0, 0, 1, 1], elev=30, azim=20)\n",
    "plt.scatter(X[:, 0], X[:, 1], X[:, 2],marker='o')\n",
    "plt.show()"
   ]
  },
  {
   "cell_type": "code",
   "execution_count": 57,
   "metadata": {},
   "outputs": [
    {
     "name": "stdout",
     "output_type": "stream",
     "text": [
      "[0.98318212 0.00850037 0.00831751]\n",
      "[3.78521638 0.03272613 0.03202212]\n"
     ]
    }
   ],
   "source": [
    "from sklearn.decomposition import PCA\n",
    "pca = PCA(n_components=3)\n",
    "pca.fit(X)\n",
    "print(pca.explained_variance_ratio_)\n",
    "print(pca.explained_variance_)"
   ]
  },
  {
   "cell_type": "code",
   "execution_count": 60,
   "metadata": {},
   "outputs": [
    {
     "data": {
      "image/png": "[encoded data removed]",
      "text/plain": [
       "<Figure size 432x288 with 1 Axes>"
      ]
     },
     "metadata": {},
     "output_type": "display_data"
    }
   ],
   "source": [
    "X_new = pca.transform(X)\n",
    "plt.scatter(X_new[:, 0], X_new[:, 1],marker='o')    # 散点图其他参数改进\n",
    "plt.show()"
   ]
  },
  {
   "cell_type": "code",
   "execution_count": null,
   "metadata": {},
   "outputs": [],
   "source": []
  },
  {
   "cell_type": "code",
   "execution_count": null,
   "metadata": {},
   "outputs": [],
   "source": []
  },
  {
   "cell_type": "code",
   "execution_count": null,
   "metadata": {},
   "outputs": [],
   "source": []
  },
  {
   "cell_type": "markdown",
   "metadata": {},
   "source": [
    "#####  随机数矩阵"
   ]
  },
  {
   "cell_type": "code",
   "execution_count": 6,
   "metadata": {},
   "outputs": [
    {
     "name": "stdout",
     "output_type": "stream",
     "text": [
      "[[-0.11773717  0.73974218 -1.34524012 -1.30366053]\n",
      " [-0.05730318  0.85952622 -0.19167924 -0.75852665]\n",
      " [-0.06048586 -0.70289497 -1.50063394 -2.05063193]\n",
      " [ 0.47930694 -0.47843984  0.34853537  0.25598731]] \n",
      "\n",
      "\n",
      " [[0.73672457 0.56272229 0.89064905 0.99326747]\n",
      " [0.85547655 0.91751987 0.03394667 0.43520933]\n",
      " [0.55092166 0.40376128 0.70065966 0.51151111]\n",
      " [0.45458711 0.62227837 0.25533352 0.67413221]]\n"
     ]
    }
   ],
   "source": [
    "# np生成随机数矩阵\n",
    "import numpy as np\n",
    "a1 = np.random.randn(4,4)            # 生成的是标准正态分布的随机数矩阵\n",
    "a2 = np.random.rand(4,4)             # 生成的是0-1之间分布的随机数矩阵\n",
    "print(a1,\"\\n\\n\\n\",a2)"
   ]
  },
  {
   "cell_type": "code",
   "execution_count": 8,
   "metadata": {},
   "outputs": [
    {
     "data": {
      "text/plain": [
       "array([[ 6.06141532,  5.39319817,  2.11053605, 10.4185663 ],\n",
       "       [-0.6676926 ,  9.30963927,  0.98550668,  3.13149503],\n",
       "       [-2.99232995,  4.19319672, -1.79994139,  3.82441852],\n",
       "       [ 6.44224199,  8.57694513,  7.9988286 , 13.23055397]])"
      ]
     },
     "execution_count": 8,
     "metadata": {},
     "output_type": "execute_result"
    }
   ],
   "source": [
    "# 一般的正态分布随机数       形式:      sigma * np.random.randn(...) + mu           标准差为乘、均值为加   背后的本质思想不过是标准化移项罢了\n",
    "a3 = 4*np.random.randn(4,4)+5\n",
    "a3"
   ]
  },
  {
   "cell_type": "code",
   "execution_count": null,
   "metadata": {},
   "outputs": [],
   "source": []
  },
  {
   "cell_type": "markdown",
   "metadata": {},
   "source": [
    "# 线性回归"
   ]
  },
  {
   "cell_type": "code",
   "execution_count": 5,
   "metadata": {},
   "outputs": [],
   "source": [
    "import statsmodels.api as sm\n",
    "import seaborn as sns\n",
    "import pandas as pd\n",
    "import numpy as np\n",
    "from pandas import Series\n",
    "import matplotlib.pyplot as plt"
   ]
  },
  {
   "cell_type": "markdown",
   "metadata": {},
   "source": [
    "## 一元一次"
   ]
  },
  {
   "cell_type": "code",
   "execution_count": 26,
   "metadata": {
    "scrolled": true
   },
   "outputs": [
    {
     "name": "stdout",
     "output_type": "stream",
     "text": [
      "   const  0\n",
      "0    1.0  4\n",
      "1    1.0  5\n",
      "2    1.0  6\n",
      "3    1.0  7\n",
      "4    1.0  8 <class 'pandas.core.frame.DataFrame'>\n",
      "                            OLS Regression Results                            \n",
      "==============================================================================\n",
      "Dep. Variable:                      y   R-squared:                       0.990\n",
      "Model:                            OLS   Adj. R-squared:                  0.987\n",
      "Method:                 Least Squares   F-statistic:                     308.6\n",
      "Date:                Wed, 23 Jan 2019   Prob (F-statistic):           0.000402\n",
      "Time:                        23:14:28   Log-Likelihood:                -9.6687\n",
      "No. Observations:                   5   AIC:                             23.34\n",
      "Df Residuals:                       3   BIC:                             22.56\n",
      "Df Model:                           1                                         \n",
      "Covariance Type:            nonrobust                                         \n",
      "==============================================================================\n",
      "                 coef    std err          t      P>|t|      [0.025      0.975]\n",
      "------------------------------------------------------------------------------\n",
      "const        -34.0000      4.211     -8.074      0.004     -47.402     -20.598\n",
      "0             12.0000      0.683     17.566      0.000       9.826      14.174\n",
      "==============================================================================\n",
      "Omnibus:                          nan   Durbin-Watson:                   1.429\n",
      "Prob(Omnibus):                    nan   Jarque-Bera (JB):                0.674\n",
      "Skew:                           0.256   Prob(JB):                        0.714\n",
      "Kurtosis:                       1.276   Cond. No.                         27.5\n",
      "==============================================================================\n",
      "\n",
      "Warnings:\n",
      "[1] Standard Errors assume that the covariance matrix of the errors is correctly specified.\n",
      "const   -34.0\n",
      "0        12.0\n",
      "dtype: float64\n",
      "\n",
      " 0    14.0\n",
      "1    26.0\n",
      "2    38.0\n",
      "3    50.0\n",
      "4    62.0\n",
      "dtype: float64 <class 'pandas.core.series.Series'>\n"
     ]
    },
    {
     "name": "stderr",
     "output_type": "stream",
     "text": [
      "D:\\Anaconda\\lib\\site-packages\\statsmodels\\stats\\stattools.py:72: ValueWarning: omni_normtest is not valid with less than 8 observations; 5 samples were given.\n",
      "  \"samples were given.\" % int(n), ValueWarning)\n"
     ]
    }
   ],
   "source": [
    "xx = Series([4,5,6,7,8])\n",
    "yy = Series([16,25,36,49,64])\n",
    "\n",
    "X = sm.add_constant(xx)  #补充常数项  注意与xx的联系\n",
    "print(X,type(X))\n",
    "result = (sm.OLS(yy,X)).fit()     # 结果对象\n",
    "print(result.summary())\n",
    "\n",
    "print(result.params)   # 获取结果的参数  就是coef的那一列  且小数位数更精确(很长很长)    类型series\n",
    "print('\\n',result.fittedvalues,type(result.fittedvalues))   # 这可以看作是  拟合线的  函数值（用它画图）"
   ]
  },
  {
   "cell_type": "code",
   "execution_count": 29,
   "metadata": {
    "scrolled": true
   },
   "outputs": [
    {
     "data": {
      "image/png": "[encoded data removed]",
      "text/plain": [
       "<Figure size 360x360 with 1 Axes>"
      ]
     },
     "metadata": {},
     "output_type": "display_data"
    }
   ],
   "source": [
    "# 在matplotlib中，整个图像为一个Figure对象。在Figure对象中可以包含一个或者多个Axes对象。\n",
    "#每个Axes(ax)对象都是一个拥有自己坐标系统的绘图区域。\n",
    "\n",
    "fig, ax = plt.subplots(figsize=(5,5),num = 1)          #图像格数的大小     分别创建figure axes对象\n",
    "ax.plot(xx, yy, 'og', label=\"data\")             # 画散点\n",
    "ax.plot(xx, result.fittedvalues, 'y', label=\"OLS\")   # 画拟合线\n",
    "ax.legend(loc='best')                             #  参数？？ 没差别？\n",
    "ax.grid(True)                                     #  注意 原来是直接 plt.plot() plt.legend() 是默认创建画布的\n",
    "                                                    # 这里用 ax对象 更具体  是对应的figure下的axes"
   ]
  },
  {
   "cell_type": "markdown",
   "metadata": {},
   "source": [
    "## 一元高次"
   ]
  },
  {
   "cell_type": "code",
   "execution_count": 31,
   "metadata": {},
   "outputs": [
    {
     "name": "stdout",
     "output_type": "stream",
     "text": [
      "0     6\n",
      "1    27\n",
      "2    38\n",
      "3    51\n",
      "4    66\n",
      "5    83\n",
      "dtype: int64 <class 'pandas.core.series.Series'>\n"
     ]
    }
   ],
   "source": [
    "xxx = Series([1,4,5,6,7,8])\n",
    "def test(a):\n",
    "    return a**2+2*a+3\n",
    "\n",
    "yyy = Series(map(test,xxx))\n",
    "print(yyy,type(yyy))"
   ]
  },
  {
   "cell_type": "code",
   "execution_count": 33,
   "metadata": {},
   "outputs": [
    {
     "name": "stdout",
     "output_type": "stream",
     "text": [
      "                            OLS Regression Results                            \n",
      "==============================================================================\n",
      "Dep. Variable:                      y   R-squared:                       1.000\n",
      "Model:                            OLS   Adj. R-squared:                  1.000\n",
      "Method:                 Least Squares   F-statistic:                 6.210e+30\n",
      "Date:                Wed, 23 Jan 2019   Prob (F-statistic):           1.19e-46\n",
      "Time:                        23:25:42   Log-Likelihood:                 183.62\n",
      "No. Observations:                   6   AIC:                            -361.2\n",
      "Df Residuals:                       3   BIC:                            -361.9\n",
      "Df Model:                           2                                         \n",
      "Covariance Type:            nonrobust                                         \n",
      "==============================================================================\n",
      "                 coef    std err          t      P>|t|      [0.025      0.975]\n",
      "------------------------------------------------------------------------------\n",
      "const          3.0000   2.66e-14   1.13e+14      0.000       3.000       3.000\n",
      "x1             2.0000   1.28e-14   1.56e+14      0.000       2.000       2.000\n",
      "x2             1.0000    1.4e-15   7.15e+14      0.000       1.000       1.000\n",
      "==============================================================================\n",
      "Omnibus:                          nan   Durbin-Watson:                   0.233\n",
      "Prob(Omnibus):                    nan   Jarque-Bera (JB):                2.596\n",
      "Skew:                           1.569   Prob(JB):                        0.273\n",
      "Kurtosis:                       3.734   Cond. No.                         156.\n",
      "==============================================================================\n",
      "\n",
      "Warnings:\n",
      "[1] Standard Errors assume that the covariance matrix of the errors is correctly specified.\n"
     ]
    },
    {
     "name": "stderr",
     "output_type": "stream",
     "text": [
      "D:\\Anaconda\\lib\\site-packages\\statsmodels\\stats\\stattools.py:72: ValueWarning: omni_normtest is not valid with less than 8 observations; 6 samples were given.\n",
      "  \"samples were given.\" % int(n), ValueWarning)\n"
     ]
    }
   ],
   "source": [
    "XX = np.column_stack((xxx, xxx**2))   #再创建一个 k×2 的 array，两列分别为 x1 和 x2。我们需要 x2 为 x1 的平方   本质！！！\n",
    "XX = sm.add_constant(XX)             #补充常数项  在 array 上加入一列常项 1  原地修改 !!!!!!!!!小心sm.add_constant(XX)里面是XX本身！！\n",
    "result = (sm.OLS(yyy,XX)).fit() \n",
    "print(result.summary())"
   ]
  },
  {
   "cell_type": "code",
   "execution_count": 41,
   "metadata": {
    "scrolled": true
   },
   "outputs": [
    {
     "data": {
      "text/plain": [
       "<matplotlib.legend.Legend at 0x17fe6961ac8>"
      ]
     },
     "execution_count": 41,
     "metadata": {},
     "output_type": "execute_result"
    },
    {
     "data": {
      "image/png": "[encoded data removed]",
      "text/plain": [
       "<Figure size 288x288 with 1 Axes>"
      ]
     },
     "metadata": {},
     "output_type": "display_data"
    }
   ],
   "source": [
    "fig1, ax1 = plt.subplots(figsize=(4,4))          #图像格数的大小\n",
    "ax1.plot(xxx, yyy, 'vy', label=\"data\")\n",
    "ax1.plot(xxx, result.fittedvalues, 'g', label=\"OLS\")\n",
    "ax1.legend(loc='best')"
   ]
  },
  {
   "cell_type": "markdown",
   "metadata": {},
   "source": [
    "## 多元"
   ]
  },
  {
   "cell_type": "code",
   "execution_count": 42,
   "metadata": {},
   "outputs": [
    {
     "name": "stderr",
     "output_type": "stream",
     "text": [
      "D:\\Anaconda\\lib\\site-packages\\sklearn\\cross_validation.py:41: DeprecationWarning: This module was deprecated in version 0.18 in favor of the model_selection module into which all the refactored classes and functions are moved. Also note that the interface of the new CV iterators are different from that of this module. This module will be removed in 0.20.\n",
      "  \"This module will be removed in 0.20.\", DeprecationWarning)\n"
     ]
    }
   ],
   "source": [
    "import pandas as pd\n",
    "import numpy as np\n",
    "import matplotlib.pyplot as plt\n",
    "from pandas import DataFrame,Series      #  创建矩阵和series\n",
    "from sklearn.cross_validation import train_test_split\n",
    "from sklearn.linear_model import LinearRegression"
   ]
  },
  {
   "cell_type": "code",
   "execution_count": 50,
   "metadata": {},
   "outputs": [
    {
     "name": "stdout",
     "output_type": "stream",
     "text": [
      "   学习时间  分数\n",
      "0  0.50  10\n",
      "1  0.75  22\n",
      "2  1.00  13\n",
      "3  1.25  43 <class 'pandas.core.frame.DataFrame'>\n",
      "<class 'pandas.core.series.Series'>\n"
     ]
    }
   ],
   "source": [
    "#创建数据集\n",
    "examDict  = {'学习时间':[0.50,0.75,1.00,1.25,1.50,1.75,1.75,\n",
    "                     2.00,2.25,2.50,2.75,3.00,3.25,3.50,4.00,4.25,4.50,4.75,5.00,5.50],\n",
    "             '分数':[10,22,13,43,20,22,33,50,62,\n",
    "                   48,55,75,62,73,81,76,64,82,90,93]}\n",
    " \n",
    "#转换为DataFrame的数据格式\n",
    "examDf = DataFrame(examDict)\n",
    "print(examDf.head(4),type(examDf))\n",
    "print(type(examDf.分数))"
   ]
  },
  {
   "cell_type": "code",
   "execution_count": 44,
   "metadata": {},
   "outputs": [
    {
     "data": {
      "image/png": "[encoded data removed]",
      "text/plain": [
       "<Figure size 432x288 with 1 Axes>"
      ]
     },
     "metadata": {},
     "output_type": "display_data"
    }
   ],
   "source": [
    "#绘制散点图\n",
    "plt.scatter(examDf.分数,examDf.学习时间,color = 'b',label = \"Exam Data\")   #前两个参数都为series\n",
    "plt.xlabel(\"Hours\")\n",
    "plt.ylabel(\"Score\")\n",
    "plt.show()"
   ]
  },
  {
   "cell_type": "code",
   "execution_count": 52,
   "metadata": {
    "scrolled": true
   },
   "outputs": [
    {
     "name": "stdout",
     "output_type": "stream",
     "text": [
      "          学习时间        分数\n",
      "学习时间  1.000000  0.923985\n",
      "分数    0.923985  1.000000\n",
      "0.9239852119728443\n"
     ]
    }
   ],
   "source": [
    "score_corr = examDf.corr()   # 应该是pandas自带的计算矩阵中  两个列（series）的协方差\n",
    "print(score_corr)\n",
    "print(score_corr['学习时间'][1])   # 相关系数"
   ]
  },
  {
   "cell_type": "markdown",
   "metadata": {},
   "source": [
    "### 正式  读取文件的多元回归"
   ]
  },
  {
   "cell_type": "code",
   "execution_count": 61,
   "metadata": {},
   "outputs": [],
   "source": [
    "import pandas as pd\n",
    "adv_data = pd.read_csv(\"C:/Users/acer/Desktop/Advertising.csv\",encoding = \"utf-8\")  \n",
    "# 读取文件注意：路径最好是C 斜杠方向"
   ]
  },
  {
   "cell_type": "code",
   "execution_count": 64,
   "metadata": {},
   "outputs": [
    {
     "name": "stdout",
     "output_type": "stream",
     "text": [
      "   Unnamed: 0     TV  radio  newspaper  sales\n",
      "0           1  230.1   37.8       69.2   22.1\n",
      "1           2   44.5   39.3       45.1   10.4\n",
      "2           3   17.2   45.9       69.3    9.3\n",
      "3           4  151.5   41.3       58.5   18.5\n",
      "4           5  180.8   10.8       58.4   12.9\n"
     ]
    }
   ],
   "source": [
    "print(adv_data.head())"
   ]
  },
  {
   "cell_type": "code",
   "execution_count": 83,
   "metadata": {},
   "outputs": [
    {
     "data": {
      "text/html": [
       "<div>\n",
       "<style scoped>\n",
       "    .dataframe tbody tr th:only-of-type {\n",
       "        vertical-align: middle;\n",
       "    }\n",
       "\n",
       "    .dataframe tbody tr th {\n",
       "        vertical-align: top;\n",
       "    }\n",
       "\n",
       "    .dataframe thead th {\n",
       "        text-align: right;\n",
       "    }\n",
       "</style>\n",
       "<table border=\"1\" class=\"dataframe\">\n",
       "  <thead>\n",
       "    <tr style=\"text-align: right;\">\n",
       "      <th></th>\n",
       "      <th>TV</th>\n",
       "      <th>radio</th>\n",
       "      <th>newspaper</th>\n",
       "      <th>sales</th>\n",
       "    </tr>\n",
       "  </thead>\n",
       "  <tbody>\n",
       "    <tr>\n",
       "      <th>0</th>\n",
       "      <td>230.1</td>\n",
       "      <td>37.8</td>\n",
       "      <td>69.2</td>\n",
       "      <td>22.1</td>\n",
       "    </tr>\n",
       "    <tr>\n",
       "      <th>1</th>\n",
       "      <td>44.5</td>\n",
       "      <td>39.3</td>\n",
       "      <td>45.1</td>\n",
       "      <td>10.4</td>\n",
       "    </tr>\n",
       "    <tr>\n",
       "      <th>2</th>\n",
       "      <td>17.2</td>\n",
       "      <td>45.9</td>\n",
       "      <td>69.3</td>\n",
       "      <td>9.3</td>\n",
       "    </tr>\n",
       "    <tr>\n",
       "      <th>3</th>\n",
       "      <td>151.5</td>\n",
       "      <td>41.3</td>\n",
       "      <td>58.5</td>\n",
       "      <td>18.5</td>\n",
       "    </tr>\n",
       "    <tr>\n",
       "      <th>4</th>\n",
       "      <td>180.8</td>\n",
       "      <td>10.8</td>\n",
       "      <td>58.4</td>\n",
       "      <td>12.9</td>\n",
       "    </tr>\n",
       "  </tbody>\n",
       "</table>\n",
       "</div>"
      ],
      "text/plain": [
       "      TV  radio  newspaper  sales\n",
       "0  230.1   37.8       69.2   22.1\n",
       "1   44.5   39.3       45.1   10.4\n",
       "2   17.2   45.9       69.3    9.3\n",
       "3  151.5   41.3       58.5   18.5\n",
       "4  180.8   10.8       58.4   12.9"
      ]
     },
     "execution_count": 83,
     "metadata": {},
     "output_type": "execute_result"
    }
   ],
   "source": [
    "new_adv_data = adv_data.iloc[:,1:]\n",
    "new_adv_data.head()  # 清理去除第一列不需要的数据"
   ]
  },
  {
   "cell_type": "code",
   "execution_count": 84,
   "metadata": {},
   "outputs": [
    {
     "data": {
      "text/plain": [
       "(200, 4)"
      ]
     },
     "execution_count": 84,
     "metadata": {},
     "output_type": "execute_result"
    }
   ],
   "source": [
    "new_adv_data.shape    # 数据矩阵的大小"
   ]
  },
  {
   "cell_type": "raw",
   "metadata": {},
   "source": [
    "数据理解：前三个为解释变量  最后的sale为被解释变量"
   ]
  },
  {
   "cell_type": "code",
   "execution_count": 86,
   "metadata": {
    "scrolled": true
   },
   "outputs": [
    {
     "name": "stdout",
     "output_type": "stream",
     "text": [
      "               TV       radio   newspaper       sales\n",
      "count  200.000000  200.000000  200.000000  200.000000\n",
      "mean   147.042500   23.264000   30.554000   14.022500\n",
      "std     85.854236   14.846809   21.778621    5.217457\n",
      "min      0.700000    0.000000    0.300000    1.600000\n",
      "25%     74.375000    9.975000   12.750000   10.375000\n",
      "50%    149.750000   22.900000   25.750000   12.900000\n",
      "75%    218.825000   36.525000   45.100000   17.400000\n",
      "max    296.400000   49.600000  114.000000   27.000000\n"
     ]
    }
   ],
   "source": [
    "print(new_adv_data.describe())\n",
    "# 25%   #下四分位\n",
    "# 50%   #中位数      mean为均值\n",
    "# 75%   #上四分位"
   ]
  },
  {
   "cell_type": "raw",
   "metadata": {},
   "source": [
    "缺失值检验"
   ]
  },
  {
   "cell_type": "code",
   "execution_count": 87,
   "metadata": {},
   "outputs": [
    {
     "name": "stdout",
     "output_type": "stream",
     "text": [
      "TV           0\n",
      "radio        0\n",
      "newspaper    0\n",
      "sales        0\n",
      "dtype: int64\n"
     ]
    }
   ],
   "source": [
    "print(new_adv_data[new_adv_data.isnull()==True].count())    # 统计缺失值"
   ]
  },
  {
   "cell_type": "code",
   "execution_count": 89,
   "metadata": {},
   "outputs": [
    {
     "data": {
      "text/html": [
       "<div>\n",
       "<style scoped>\n",
       "    .dataframe tbody tr th:only-of-type {\n",
       "        vertical-align: middle;\n",
       "    }\n",
       "\n",
       "    .dataframe tbody tr th {\n",
       "        vertical-align: top;\n",
       "    }\n",
       "\n",
       "    .dataframe thead th {\n",
       "        text-align: right;\n",
       "    }\n",
       "</style>\n",
       "<table border=\"1\" class=\"dataframe\">\n",
       "  <thead>\n",
       "    <tr style=\"text-align: right;\">\n",
       "      <th></th>\n",
       "      <th>TV</th>\n",
       "      <th>radio</th>\n",
       "      <th>newspaper</th>\n",
       "      <th>sales</th>\n",
       "    </tr>\n",
       "  </thead>\n",
       "  <tbody>\n",
       "    <tr>\n",
       "      <th>0</th>\n",
       "      <td>False</td>\n",
       "      <td>False</td>\n",
       "      <td>False</td>\n",
       "      <td>False</td>\n",
       "    </tr>\n",
       "    <tr>\n",
       "      <th>1</th>\n",
       "      <td>False</td>\n",
       "      <td>False</td>\n",
       "      <td>False</td>\n",
       "      <td>False</td>\n",
       "    </tr>\n",
       "    <tr>\n",
       "      <th>2</th>\n",
       "      <td>False</td>\n",
       "      <td>False</td>\n",
       "      <td>False</td>\n",
       "      <td>False</td>\n",
       "    </tr>\n",
       "    <tr>\n",
       "      <th>3</th>\n",
       "      <td>False</td>\n",
       "      <td>False</td>\n",
       "      <td>False</td>\n",
       "      <td>False</td>\n",
       "    </tr>\n",
       "    <tr>\n",
       "      <th>4</th>\n",
       "      <td>False</td>\n",
       "      <td>False</td>\n",
       "      <td>False</td>\n",
       "      <td>False</td>\n",
       "    </tr>\n",
       "  </tbody>\n",
       "</table>\n",
       "</div>"
      ],
      "text/plain": [
       "      TV  radio  newspaper  sales\n",
       "0  False  False      False  False\n",
       "1  False  False      False  False\n",
       "2  False  False      False  False\n",
       "3  False  False      False  False\n",
       "4  False  False      False  False"
      ]
     },
     "execution_count": 89,
     "metadata": {},
     "output_type": "execute_result"
    }
   ],
   "source": [
    "new_adv_data.isnull().head()   # 对每一个值判断是否缺失  生成的是缺失值矩阵 "
   ]
  },
  {
   "cell_type": "raw",
   "metadata": {},
   "source": [
    "df.iloc[1:3,1] = np.nan     转换为NaN的格式  数据修改"
   ]
  },
  {
   "cell_type": "code",
   "execution_count": 90,
   "metadata": {},
   "outputs": [
    {
     "data": {
      "text/html": [
       "<div>\n",
       "<style scoped>\n",
       "    .dataframe tbody tr th:only-of-type {\n",
       "        vertical-align: middle;\n",
       "    }\n",
       "\n",
       "    .dataframe tbody tr th {\n",
       "        vertical-align: top;\n",
       "    }\n",
       "\n",
       "    .dataframe thead th {\n",
       "        text-align: right;\n",
       "    }\n",
       "</style>\n",
       "<table border=\"1\" class=\"dataframe\">\n",
       "  <thead>\n",
       "    <tr style=\"text-align: right;\">\n",
       "      <th></th>\n",
       "      <th>TV</th>\n",
       "      <th>radio</th>\n",
       "      <th>newspaper</th>\n",
       "      <th>sales</th>\n",
       "    </tr>\n",
       "  </thead>\n",
       "  <tbody>\n",
       "    <tr>\n",
       "      <th>0</th>\n",
       "      <td>NaN</td>\n",
       "      <td>NaN</td>\n",
       "      <td>NaN</td>\n",
       "      <td>NaN</td>\n",
       "    </tr>\n",
       "    <tr>\n",
       "      <th>1</th>\n",
       "      <td>NaN</td>\n",
       "      <td>NaN</td>\n",
       "      <td>NaN</td>\n",
       "      <td>NaN</td>\n",
       "    </tr>\n",
       "    <tr>\n",
       "      <th>2</th>\n",
       "      <td>NaN</td>\n",
       "      <td>NaN</td>\n",
       "      <td>NaN</td>\n",
       "      <td>NaN</td>\n",
       "    </tr>\n",
       "    <tr>\n",
       "      <th>3</th>\n",
       "      <td>NaN</td>\n",
       "      <td>NaN</td>\n",
       "      <td>NaN</td>\n",
       "      <td>NaN</td>\n",
       "    </tr>\n",
       "    <tr>\n",
       "      <th>4</th>\n",
       "      <td>NaN</td>\n",
       "      <td>NaN</td>\n",
       "      <td>NaN</td>\n",
       "      <td>NaN</td>\n",
       "    </tr>\n",
       "    <tr>\n",
       "      <th>5</th>\n",
       "      <td>NaN</td>\n",
       "      <td>NaN</td>\n",
       "      <td>NaN</td>\n",
       "      <td>NaN</td>\n",
       "    </tr>\n",
       "    <tr>\n",
       "      <th>6</th>\n",
       "      <td>NaN</td>\n",
       "      <td>NaN</td>\n",
       "      <td>NaN</td>\n",
       "      <td>NaN</td>\n",
       "    </tr>\n",
       "    <tr>\n",
       "      <th>7</th>\n",
       "      <td>NaN</td>\n",
       "      <td>NaN</td>\n",
       "      <td>NaN</td>\n",
       "      <td>NaN</td>\n",
       "    </tr>\n",
       "    <tr>\n",
       "      <th>8</th>\n",
       "      <td>NaN</td>\n",
       "      <td>NaN</td>\n",
       "      <td>NaN</td>\n",
       "      <td>NaN</td>\n",
       "    </tr>\n",
       "    <tr>\n",
       "      <th>9</th>\n",
       "      <td>NaN</td>\n",
       "      <td>NaN</td>\n",
       "      <td>NaN</td>\n",
       "      <td>NaN</td>\n",
       "    </tr>\n",
       "    <tr>\n",
       "      <th>10</th>\n",
       "      <td>NaN</td>\n",
       "      <td>NaN</td>\n",
       "      <td>NaN</td>\n",
       "      <td>NaN</td>\n",
       "    </tr>\n",
       "    <tr>\n",
       "      <th>11</th>\n",
       "      <td>NaN</td>\n",
       "      <td>NaN</td>\n",
       "      <td>NaN</td>\n",
       "      <td>NaN</td>\n",
       "    </tr>\n",
       "    <tr>\n",
       "      <th>12</th>\n",
       "      <td>NaN</td>\n",
       "      <td>NaN</td>\n",
       "      <td>NaN</td>\n",
       "      <td>NaN</td>\n",
       "    </tr>\n",
       "    <tr>\n",
       "      <th>13</th>\n",
       "      <td>NaN</td>\n",
       "      <td>NaN</td>\n",
       "      <td>NaN</td>\n",
       "      <td>NaN</td>\n",
       "    </tr>\n",
       "    <tr>\n",
       "      <th>14</th>\n",
       "      <td>NaN</td>\n",
       "      <td>NaN</td>\n",
       "      <td>NaN</td>\n",
       "      <td>NaN</td>\n",
       "    </tr>\n",
       "    <tr>\n",
       "      <th>15</th>\n",
       "      <td>NaN</td>\n",
       "      <td>NaN</td>\n",
       "      <td>NaN</td>\n",
       "      <td>NaN</td>\n",
       "    </tr>\n",
       "    <tr>\n",
       "      <th>16</th>\n",
       "      <td>NaN</td>\n",
       "      <td>NaN</td>\n",
       "      <td>NaN</td>\n",
       "      <td>NaN</td>\n",
       "    </tr>\n",
       "    <tr>\n",
       "      <th>17</th>\n",
       "      <td>NaN</td>\n",
       "      <td>NaN</td>\n",
       "      <td>NaN</td>\n",
       "      <td>NaN</td>\n",
       "    </tr>\n",
       "    <tr>\n",
       "      <th>18</th>\n",
       "      <td>NaN</td>\n",
       "      <td>NaN</td>\n",
       "      <td>NaN</td>\n",
       "      <td>NaN</td>\n",
       "    </tr>\n",
       "    <tr>\n",
       "      <th>19</th>\n",
       "      <td>NaN</td>\n",
       "      <td>NaN</td>\n",
       "      <td>NaN</td>\n",
       "      <td>NaN</td>\n",
       "    </tr>\n",
       "    <tr>\n",
       "      <th>20</th>\n",
       "      <td>NaN</td>\n",
       "      <td>NaN</td>\n",
       "      <td>NaN</td>\n",
       "      <td>NaN</td>\n",
       "    </tr>\n",
       "    <tr>\n",
       "      <th>21</th>\n",
       "      <td>NaN</td>\n",
       "      <td>NaN</td>\n",
       "      <td>NaN</td>\n",
       "      <td>NaN</td>\n",
       "    </tr>\n",
       "    <tr>\n",
       "      <th>22</th>\n",
       "      <td>NaN</td>\n",
       "      <td>NaN</td>\n",
       "      <td>NaN</td>\n",
       "      <td>NaN</td>\n",
       "    </tr>\n",
       "    <tr>\n",
       "      <th>23</th>\n",
       "      <td>NaN</td>\n",
       "      <td>NaN</td>\n",
       "      <td>NaN</td>\n",
       "      <td>NaN</td>\n",
       "    </tr>\n",
       "    <tr>\n",
       "      <th>24</th>\n",
       "      <td>NaN</td>\n",
       "      <td>NaN</td>\n",
       "      <td>NaN</td>\n",
       "      <td>NaN</td>\n",
       "    </tr>\n",
       "    <tr>\n",
       "      <th>25</th>\n",
       "      <td>NaN</td>\n",
       "      <td>NaN</td>\n",
       "      <td>NaN</td>\n",
       "      <td>NaN</td>\n",
       "    </tr>\n",
       "    <tr>\n",
       "      <th>26</th>\n",
       "      <td>NaN</td>\n",
       "      <td>NaN</td>\n",
       "      <td>NaN</td>\n",
       "      <td>NaN</td>\n",
       "    </tr>\n",
       "    <tr>\n",
       "      <th>27</th>\n",
       "      <td>NaN</td>\n",
       "      <td>NaN</td>\n",
       "      <td>NaN</td>\n",
       "      <td>NaN</td>\n",
       "    </tr>\n",
       "    <tr>\n",
       "      <th>28</th>\n",
       "      <td>NaN</td>\n",
       "      <td>NaN</td>\n",
       "      <td>NaN</td>\n",
       "      <td>NaN</td>\n",
       "    </tr>\n",
       "    <tr>\n",
       "      <th>29</th>\n",
       "      <td>NaN</td>\n",
       "      <td>NaN</td>\n",
       "      <td>NaN</td>\n",
       "      <td>NaN</td>\n",
       "    </tr>\n",
       "    <tr>\n",
       "      <th>...</th>\n",
       "      <td>...</td>\n",
       "      <td>...</td>\n",
       "      <td>...</td>\n",
       "      <td>...</td>\n",
       "    </tr>\n",
       "    <tr>\n",
       "      <th>170</th>\n",
       "      <td>NaN</td>\n",
       "      <td>NaN</td>\n",
       "      <td>NaN</td>\n",
       "      <td>NaN</td>\n",
       "    </tr>\n",
       "    <tr>\n",
       "      <th>171</th>\n",
       "      <td>NaN</td>\n",
       "      <td>NaN</td>\n",
       "      <td>NaN</td>\n",
       "      <td>NaN</td>\n",
       "    </tr>\n",
       "    <tr>\n",
       "      <th>172</th>\n",
       "      <td>NaN</td>\n",
       "      <td>NaN</td>\n",
       "      <td>NaN</td>\n",
       "      <td>NaN</td>\n",
       "    </tr>\n",
       "    <tr>\n",
       "      <th>173</th>\n",
       "      <td>NaN</td>\n",
       "      <td>NaN</td>\n",
       "      <td>NaN</td>\n",
       "      <td>NaN</td>\n",
       "    </tr>\n",
       "    <tr>\n",
       "      <th>174</th>\n",
       "      <td>NaN</td>\n",
       "      <td>NaN</td>\n",
       "      <td>NaN</td>\n",
       "      <td>NaN</td>\n",
       "    </tr>\n",
       "    <tr>\n",
       "      <th>175</th>\n",
       "      <td>NaN</td>\n",
       "      <td>NaN</td>\n",
       "      <td>NaN</td>\n",
       "      <td>NaN</td>\n",
       "    </tr>\n",
       "    <tr>\n",
       "      <th>176</th>\n",
       "      <td>NaN</td>\n",
       "      <td>NaN</td>\n",
       "      <td>NaN</td>\n",
       "      <td>NaN</td>\n",
       "    </tr>\n",
       "    <tr>\n",
       "      <th>177</th>\n",
       "      <td>NaN</td>\n",
       "      <td>NaN</td>\n",
       "      <td>NaN</td>\n",
       "      <td>NaN</td>\n",
       "    </tr>\n",
       "    <tr>\n",
       "      <th>178</th>\n",
       "      <td>NaN</td>\n",
       "      <td>NaN</td>\n",
       "      <td>NaN</td>\n",
       "      <td>NaN</td>\n",
       "    </tr>\n",
       "    <tr>\n",
       "      <th>179</th>\n",
       "      <td>NaN</td>\n",
       "      <td>NaN</td>\n",
       "      <td>NaN</td>\n",
       "      <td>NaN</td>\n",
       "    </tr>\n",
       "    <tr>\n",
       "      <th>180</th>\n",
       "      <td>NaN</td>\n",
       "      <td>NaN</td>\n",
       "      <td>NaN</td>\n",
       "      <td>NaN</td>\n",
       "    </tr>\n",
       "    <tr>\n",
       "      <th>181</th>\n",
       "      <td>NaN</td>\n",
       "      <td>NaN</td>\n",
       "      <td>NaN</td>\n",
       "      <td>NaN</td>\n",
       "    </tr>\n",
       "    <tr>\n",
       "      <th>182</th>\n",
       "      <td>NaN</td>\n",
       "      <td>NaN</td>\n",
       "      <td>NaN</td>\n",
       "      <td>NaN</td>\n",
       "    </tr>\n",
       "    <tr>\n",
       "      <th>183</th>\n",
       "      <td>NaN</td>\n",
       "      <td>NaN</td>\n",
       "      <td>NaN</td>\n",
       "      <td>NaN</td>\n",
       "    </tr>\n",
       "    <tr>\n",
       "      <th>184</th>\n",
       "      <td>NaN</td>\n",
       "      <td>NaN</td>\n",
       "      <td>NaN</td>\n",
       "      <td>NaN</td>\n",
       "    </tr>\n",
       "    <tr>\n",
       "      <th>185</th>\n",
       "      <td>NaN</td>\n",
       "      <td>NaN</td>\n",
       "      <td>NaN</td>\n",
       "      <td>NaN</td>\n",
       "    </tr>\n",
       "    <tr>\n",
       "      <th>186</th>\n",
       "      <td>NaN</td>\n",
       "      <td>NaN</td>\n",
       "      <td>NaN</td>\n",
       "      <td>NaN</td>\n",
       "    </tr>\n",
       "    <tr>\n",
       "      <th>187</th>\n",
       "      <td>NaN</td>\n",
       "      <td>NaN</td>\n",
       "      <td>NaN</td>\n",
       "      <td>NaN</td>\n",
       "    </tr>\n",
       "    <tr>\n",
       "      <th>188</th>\n",
       "      <td>NaN</td>\n",
       "      <td>NaN</td>\n",
       "      <td>NaN</td>\n",
       "      <td>NaN</td>\n",
       "    </tr>\n",
       "    <tr>\n",
       "      <th>189</th>\n",
       "      <td>NaN</td>\n",
       "      <td>NaN</td>\n",
       "      <td>NaN</td>\n",
       "      <td>NaN</td>\n",
       "    </tr>\n",
       "    <tr>\n",
       "      <th>190</th>\n",
       "      <td>NaN</td>\n",
       "      <td>NaN</td>\n",
       "      <td>NaN</td>\n",
       "      <td>NaN</td>\n",
       "    </tr>\n",
       "    <tr>\n",
       "      <th>191</th>\n",
       "      <td>NaN</td>\n",
       "      <td>NaN</td>\n",
       "      <td>NaN</td>\n",
       "      <td>NaN</td>\n",
       "    </tr>\n",
       "    <tr>\n",
       "      <th>192</th>\n",
       "      <td>NaN</td>\n",
       "      <td>NaN</td>\n",
       "      <td>NaN</td>\n",
       "      <td>NaN</td>\n",
       "    </tr>\n",
       "    <tr>\n",
       "      <th>193</th>\n",
       "      <td>NaN</td>\n",
       "      <td>NaN</td>\n",
       "      <td>NaN</td>\n",
       "      <td>NaN</td>\n",
       "    </tr>\n",
       "    <tr>\n",
       "      <th>194</th>\n",
       "      <td>NaN</td>\n",
       "      <td>NaN</td>\n",
       "      <td>NaN</td>\n",
       "      <td>NaN</td>\n",
       "    </tr>\n",
       "    <tr>\n",
       "      <th>195</th>\n",
       "      <td>NaN</td>\n",
       "      <td>NaN</td>\n",
       "      <td>NaN</td>\n",
       "      <td>NaN</td>\n",
       "    </tr>\n",
       "    <tr>\n",
       "      <th>196</th>\n",
       "      <td>NaN</td>\n",
       "      <td>NaN</td>\n",
       "      <td>NaN</td>\n",
       "      <td>NaN</td>\n",
       "    </tr>\n",
       "    <tr>\n",
       "      <th>197</th>\n",
       "      <td>NaN</td>\n",
       "      <td>NaN</td>\n",
       "      <td>NaN</td>\n",
       "      <td>NaN</td>\n",
       "    </tr>\n",
       "    <tr>\n",
       "      <th>198</th>\n",
       "      <td>NaN</td>\n",
       "      <td>NaN</td>\n",
       "      <td>NaN</td>\n",
       "      <td>NaN</td>\n",
       "    </tr>\n",
       "    <tr>\n",
       "      <th>199</th>\n",
       "      <td>NaN</td>\n",
       "      <td>NaN</td>\n",
       "      <td>NaN</td>\n",
       "      <td>NaN</td>\n",
       "    </tr>\n",
       "  </tbody>\n",
       "</table>\n",
       "<p>200 rows × 4 columns</p>\n",
       "</div>"
      ],
      "text/plain": [
       "     TV  radio  newspaper  sales\n",
       "0   NaN    NaN        NaN    NaN\n",
       "1   NaN    NaN        NaN    NaN\n",
       "2   NaN    NaN        NaN    NaN\n",
       "3   NaN    NaN        NaN    NaN\n",
       "4   NaN    NaN        NaN    NaN\n",
       "5   NaN    NaN        NaN    NaN\n",
       "6   NaN    NaN        NaN    NaN\n",
       "7   NaN    NaN        NaN    NaN\n",
       "8   NaN    NaN        NaN    NaN\n",
       "9   NaN    NaN        NaN    NaN\n",
       "10  NaN    NaN        NaN    NaN\n",
       "11  NaN    NaN        NaN    NaN\n",
       "12  NaN    NaN        NaN    NaN\n",
       "13  NaN    NaN        NaN    NaN\n",
       "14  NaN    NaN        NaN    NaN\n",
       "15  NaN    NaN        NaN    NaN\n",
       "16  NaN    NaN        NaN    NaN\n",
       "17  NaN    NaN        NaN    NaN\n",
       "18  NaN    NaN        NaN    NaN\n",
       "19  NaN    NaN        NaN    NaN\n",
       "20  NaN    NaN        NaN    NaN\n",
       "21  NaN    NaN        NaN    NaN\n",
       "22  NaN    NaN        NaN    NaN\n",
       "23  NaN    NaN        NaN    NaN\n",
       "24  NaN    NaN        NaN    NaN\n",
       "25  NaN    NaN        NaN    NaN\n",
       "26  NaN    NaN        NaN    NaN\n",
       "27  NaN    NaN        NaN    NaN\n",
       "28  NaN    NaN        NaN    NaN\n",
       "29  NaN    NaN        NaN    NaN\n",
       "..   ..    ...        ...    ...\n",
       "170 NaN    NaN        NaN    NaN\n",
       "171 NaN    NaN        NaN    NaN\n",
       "172 NaN    NaN        NaN    NaN\n",
       "173 NaN    NaN        NaN    NaN\n",
       "174 NaN    NaN        NaN    NaN\n",
       "175 NaN    NaN        NaN    NaN\n",
       "176 NaN    NaN        NaN    NaN\n",
       "177 NaN    NaN        NaN    NaN\n",
       "178 NaN    NaN        NaN    NaN\n",
       "179 NaN    NaN        NaN    NaN\n",
       "180 NaN    NaN        NaN    NaN\n",
       "181 NaN    NaN        NaN    NaN\n",
       "182 NaN    NaN        NaN    NaN\n",
       "183 NaN    NaN        NaN    NaN\n",
       "184 NaN    NaN        NaN    NaN\n",
       "185 NaN    NaN        NaN    NaN\n",
       "186 NaN    NaN        NaN    NaN\n",
       "187 NaN    NaN        NaN    NaN\n",
       "188 NaN    NaN        NaN    NaN\n",
       "189 NaN    NaN        NaN    NaN\n",
       "190 NaN    NaN        NaN    NaN\n",
       "191 NaN    NaN        NaN    NaN\n",
       "192 NaN    NaN        NaN    NaN\n",
       "193 NaN    NaN        NaN    NaN\n",
       "194 NaN    NaN        NaN    NaN\n",
       "195 NaN    NaN        NaN    NaN\n",
       "196 NaN    NaN        NaN    NaN\n",
       "197 NaN    NaN        NaN    NaN\n",
       "198 NaN    NaN        NaN    NaN\n",
       "199 NaN    NaN        NaN    NaN\n",
       "\n",
       "[200 rows x 4 columns]"
      ]
     },
     "execution_count": 90,
     "metadata": {},
     "output_type": "execute_result"
    }
   ],
   "source": [
    "new_adv_data[new_adv_data.isnull()==True]"
   ]
  },
  {
   "cell_type": "code",
   "execution_count": 96,
   "metadata": {
    "scrolled": true
   },
   "outputs": [
    {
     "data": {
      "image/png": "[encoded data removed]",
      "text/plain": [
       "<Figure size 432x288 with 1 Axes>"
      ]
     },
     "metadata": {},
     "output_type": "display_data"
    }
   ],
   "source": [
    "new_adv_data.boxplot()        #  直接用矩阵画图！    whis=1.5 可以添加参数  对异常值的多少会有影响\n",
    "plt.savefig(\"boxplot.jpg\")   # 直接保存画布   pyplot自带的！！！\n",
    "plt.show()               \n",
    "# 箱型图  各个含义： 上、下边缘（max、min）   上、下四分位数  中位数  圆圈为异常值\n",
    "# 箱形图的中位数和上四分位数的间距比较窄的话，对应曲线图，这个间距内的数据比较集中，\n",
    "# 还有就是箱形图的上（下）边缘比较长的话，对应曲线图，尾巴就比较长（可以看分布是左偏、右偏）"
   ]
  },
  {
   "cell_type": "code",
   "execution_count": 97,
   "metadata": {},
   "outputs": [
    {
     "name": "stdout",
     "output_type": "stream",
     "text": [
      "                 TV     radio  newspaper     sales\n",
      "TV         1.000000  0.054809   0.056648  0.782224\n",
      "radio      0.054809  1.000000   0.354104  0.576223\n",
      "newspaper  0.056648  0.354104   1.000000  0.228299\n",
      "sales      0.782224  0.576223   0.228299  1.000000\n"
     ]
    }
   ],
   "source": [
    "print(new_adv_data.corr())   # 相关性系数矩阵\n",
    "# 相关系数0~0.3弱相关    0.3~0.6中等程度相关    0.6~1强相关"
   ]
  },
  {
   "cell_type": "raw",
   "metadata": {},
   "source": [
    "建立散点图来查看数据里的数据分析情况以及对相对应的线性情况，\n",
    "将使用seaborn的pairplot来绘画3种不同的因素对标签值的影响"
   ]
  },
  {
   "cell_type": "code",
   "execution_count": 115,
   "metadata": {},
   "outputs": [
    {
     "data": {
      "image/png": "[encoded data removed]",
      "text/plain": [
       "<Figure size 1209.6x504 with 3 Axes>"
      ]
     },
     "metadata": {},
     "output_type": "display_data"
    }
   ],
   "source": [
    "# 通过加入一个参数kind='reg'，seaborn可以添加一条最佳拟合直线和95%的置信带。\n",
    "sns.pairplot(new_adv_data, x_vars=['TV','radio','newspaper'], y_vars='sales', size=7, aspect=0.8,kind = 'reg',markers=[\"o\"])\n",
    "# plt.savefig(\"pairplot.jpg\")\n",
    "plt.show()\n",
    "#  参数说明  第一个为数据矩阵   第二、第三个为确定的x、y轴的变量   否则将使用全部变量（会出现4*4矩阵）\n",
    "#  size就是大小  kind='reg'  是 直接使用回归进行拟合  并打出95%水平的置信带   markers=[\"v\"] 是改变点的形状"
   ]
  },
  {
   "cell_type": "code",
   "execution_count": 116,
   "metadata": {},
   "outputs": [],
   "source": [
    "import sklearn"
   ]
  },
  {
   "cell_type": "raw",
   "metadata": {},
   "source": [
    "train_test_split函数用于将矩阵随机划分为训练子集和测试子集，并返回划分好的训练集测试集样本和训练集测试集标签。\n",
    "格式：\n",
    "\n",
    "X_train,X_test, y_train, y_test =df.train_test_split(train_data,train_target,test_size=0.3, random_state=0)\n",
    "\n",
    "train_data：被划分的样本特征集      （就是特征值的集合  可以看作是解释变量）\n",
    "train_target：被划分的样本标签       (就是标签值  可以看作是被解释变量)\n",
    "test_size：如果是浮点数，在0-1之间，表示样本占比；如果是整数的话就是样本的数量    （选用多少百分比作为训练集）\n",
    "random_state：是随机数的种子。\n",
    "\n",
    "随机数种子：其实就是该组随机数的编号，在需要重复试验的时候，保证得到一组一样的随机数。比如你每次都填1，其他参数一样的情况下你得到的随机数组是一样的。但填0或不填，每次都会不一样"
   ]
  },
  {
   "cell_type": "code",
   "execution_count": 117,
   "metadata": {},
   "outputs": [
    {
     "name": "stdout",
     "output_type": "stream",
     "text": [
      "原始数据特征: (200, 3) ,训练数据特征: (160, 3) ,测试数据特征: (40, 3)\n",
      "原始数据标签: (200,) ,训练数据标签: (160,) ,测试数据标签: (40,)\n"
     ]
    },
    {
     "name": "stderr",
     "output_type": "stream",
     "text": [
      "D:\\Anaconda\\lib\\site-packages\\ipykernel_launcher.py:2: DeprecationWarning: \n",
      ".ix is deprecated. Please use\n",
      ".loc for label based indexing or\n",
      ".iloc for positional indexing\n",
      "\n",
      "See the documentation here:\n",
      "http://pandas.pydata.org/pandas-docs/stable/indexing.html#ix-indexer-is-deprecated\n",
      "  \n",
      "D:\\Anaconda\\lib\\site-packages\\ipykernel_launcher.py:4: DeprecationWarning: \n",
      ".ix is deprecated. Please use\n",
      ".loc for label based indexing or\n",
      ".iloc for positional indexing\n",
      "\n",
      "See the documentation here:\n",
      "http://pandas.pydata.org/pandas-docs/stable/indexing.html#ix-indexer-is-deprecated\n",
      "  after removing the cwd from sys.path.\n"
     ]
    }
   ],
   "source": [
    "#  用机器学习的方法  把一部分划分为训练集 一部分为测试集\n",
    "X_train,X_test,Y_train,Y_test = train_test_split(new_adv_data.ix[:,:3],new_adv_data.sales,train_size=.80)\n",
    "\n",
    "print(\"原始数据特征:\",new_adv_data.ix[:,:3].shape,\n",
    "      \",训练数据特征:\",X_train.shape,\n",
    "      \",测试数据特征:\",X_test.shape)\n",
    " \n",
    "print(\"原始数据标签:\",new_adv_data.sales.shape,\n",
    "      \",训练数据标签:\",Y_train.shape,\n",
    "      \",测试数据标签:\",Y_test.shape)"
   ]
  },
  {
   "cell_type": "code",
   "execution_count": 121,
   "metadata": {},
   "outputs": [
    {
     "data": {
      "text/html": [
       "<div>\n",
       "<style scoped>\n",
       "    .dataframe tbody tr th:only-of-type {\n",
       "        vertical-align: middle;\n",
       "    }\n",
       "\n",
       "    .dataframe tbody tr th {\n",
       "        vertical-align: top;\n",
       "    }\n",
       "\n",
       "    .dataframe thead th {\n",
       "        text-align: right;\n",
       "    }\n",
       "</style>\n",
       "<table border=\"1\" class=\"dataframe\">\n",
       "  <thead>\n",
       "    <tr style=\"text-align: right;\">\n",
       "      <th></th>\n",
       "      <th>TV</th>\n",
       "      <th>radio</th>\n",
       "      <th>newspaper</th>\n",
       "    </tr>\n",
       "  </thead>\n",
       "  <tbody>\n",
       "    <tr>\n",
       "      <th>96</th>\n",
       "      <td>197.6</td>\n",
       "      <td>3.5</td>\n",
       "      <td>5.9</td>\n",
       "    </tr>\n",
       "    <tr>\n",
       "      <th>146</th>\n",
       "      <td>240.1</td>\n",
       "      <td>7.3</td>\n",
       "      <td>8.7</td>\n",
       "    </tr>\n",
       "    <tr>\n",
       "      <th>129</th>\n",
       "      <td>59.6</td>\n",
       "      <td>12.0</td>\n",
       "      <td>43.1</td>\n",
       "    </tr>\n",
       "    <tr>\n",
       "      <th>155</th>\n",
       "      <td>4.1</td>\n",
       "      <td>11.6</td>\n",
       "      <td>5.7</td>\n",
       "    </tr>\n",
       "    <tr>\n",
       "      <th>69</th>\n",
       "      <td>216.8</td>\n",
       "      <td>43.9</td>\n",
       "      <td>27.2</td>\n",
       "    </tr>\n",
       "  </tbody>\n",
       "</table>\n",
       "</div>"
      ],
      "text/plain": [
       "        TV  radio  newspaper\n",
       "96   197.6    3.5        5.9\n",
       "146  240.1    7.3        8.7\n",
       "129   59.6   12.0       43.1\n",
       "155    4.1   11.6        5.7\n",
       "69   216.8   43.9       27.2"
      ]
     },
     "execution_count": 121,
     "metadata": {},
     "output_type": "execute_result"
    }
   ],
   "source": [
    "X_train.head()"
   ]
  },
  {
   "cell_type": "code",
   "execution_count": 123,
   "metadata": {
    "scrolled": true
   },
   "outputs": [
    {
     "data": {
      "text/plain": [
       "96     11.7\n",
       "146    13.2\n",
       "129     9.7\n",
       "155     3.2\n",
       "69     22.3\n",
       "Name: sales, dtype: float64"
      ]
     },
     "execution_count": 123,
     "metadata": {},
     "output_type": "execute_result"
    }
   ],
   "source": [
    "Y_train.head()   # 可以看出 X\\Y 训练的行数是对应的"
   ]
  },
  {
   "cell_type": "raw",
   "metadata": {},
   "source": [
    "然后用sklearn自带的函数进行回归\n",
    "注意！因为是随机选取的训练集  故在最终拟合的时候结果会有微小不同  除非选取同样的随机数种子"
   ]
  },
  {
   "cell_type": "code",
   "execution_count": 126,
   "metadata": {},
   "outputs": [
    {
     "name": "stdout",
     "output_type": "stream",
     "text": [
      "最佳拟合线:截距 3.0718114289735574 ,回归系数： [ 0.04573003  0.1889325  -0.00382291] <class 'numpy.ndarray'>\n"
     ]
    }
   ],
   "source": [
    "model = LinearRegression()   # sklearn里的\n",
    "model.fit(X_train,Y_train)\n",
    "a  = model.intercept_#截距\n",
    "b = model.coef_#回归系数\n",
    "print(\"最佳拟合线:截距\",a,\",回归系数：\",b,type(b))"
   ]
  },
  {
   "cell_type": "raw",
   "metadata": {},
   "source": [
    "所得的多元线性回归模型的函数为 ： y = 3.07 + 0.046 * TV + 0.189 * Radio - 0.0038 * Newspaper,\n",
    "\n",
    "对于给定了Radio和Newspaper的广告投入，如果在TV广告上每多投入1个单位，对应销量将增加0.046个单位。就是加入其它两个媒体投入固定，在TV广告上每增加1000美元（因为单位是1000美元），销量将增加45.73（因为单位是1000）。\n",
    "\n",
    "但是大家注意这里的newspaper的系数居然是负数，所以我们可以考虑不使用newspaper这个特征。接下来对数据集进行预测与模型测评。同样使用predict与score函数来获取所需要的预测值与得分。"
   ]
  },
  {
   "cell_type": "raw",
   "metadata": {},
   "source": [
    "#R方检测       #决定系数r平方      #对于评估模型的精确度\n",
    "#y误差平方和 = Σ(y实际值 - y预测值)^2\n",
    "#y的总波动 = Σ(y实际值 - y平均值)^2\n",
    "#有多少百分比的y波动没有被回归拟合线所描述 = SSE/总波动\n",
    "#有多少百分比的y波动被回归线描述 = 1 - SSE/总波动 = 决定系数R平方\n",
    "#对于决定系数R平方来说1） 回归线拟合程度：有多少百分比的y波动刻印有回归线来描述(x的波动变化)\n",
    "#2）值大小：R平方越高，回归模型越精确(取值范围0~1)，1无误差，0无法完成拟合"
   ]
  },
  {
   "cell_type": "code",
   "execution_count": 128,
   "metadata": {},
   "outputs": [
    {
     "name": "stdout",
     "output_type": "stream",
     "text": [
      "0.9038976513346593\n"
     ]
    }
   ],
   "source": [
    "# R平方越高，回归模型越精确(取值范围0~1)，1无误差，0无法完成拟合    1最好\n",
    "score = model.score(X_test,Y_test)   # model是创建的回归类      .score：返回该次预测的系数R2\n",
    "print(score)"
   ]
  },
  {
   "cell_type": "raw",
   "metadata": {},
   "source": [
    "进行预测   该使用测试集了"
   ]
  },
  {
   "cell_type": "code",
   "execution_count": 129,
   "metadata": {},
   "outputs": [
    {
     "name": "stdout",
     "output_type": "stream",
     "text": [
      "[15.56317695 10.03948636 12.0652359  12.0412997  20.8300557  13.70913867\n",
      "  5.81442266 11.37459277 17.16066695  8.93189986 12.22729217 15.19083838\n",
      " 12.14253208 10.07488535 13.8641987  13.15701362 14.67143031 10.69262842\n",
      " 14.25031386 10.45836639 18.76261692 21.64777697  9.85318465 10.53978674\n",
      " 17.81004802 10.91166591 21.16511539  3.64858122  8.58687948  8.55637517\n",
      " 21.93862973 18.05107676  8.9077488  20.82004181 21.21550295  9.18986003\n",
      " 22.87937247 17.11921958  6.12359001  8.23138243]\n"
     ]
    }
   ],
   "source": [
    "Y_pred = model.predict(X_test)  # 预测数值  应该是利用回归得出的函数   对X_test进行预测\n",
    "print(Y_pred)"
   ]
  },
  {
   "cell_type": "code",
   "execution_count": 143,
   "metadata": {},
   "outputs": [
    {
     "data": {
      "image/png": "[encoded data removed]",
      "text/plain": [
       "<Figure size 432x288 with 1 Axes>"
      ]
     },
     "metadata": {},
     "output_type": "display_data"
    }
   ],
   "source": [
    "# 预测值和真实值的对比\n",
    "plt.plot(Y_pred,'#FFB6C1',label=\"predict\")   # 画出预测的值   不懂为什么第一个参数  range(len(Y_pred)), 没啥影响\n",
    "plt.plot(range(len(Y_pred)),Y_test,'#9ACD32',label='test')   # 好像在这里  只要加上第一个参数 才可以 否则是散乱的图\n",
    "# plt.savefig(\"predict.,jpg\")                               # 明白了 第一个参数是指定x的变化  如果预测部分不加这个 应该是按原来随机生成的x画图 \n",
    "plt.legend()\n",
    "plt.show()"
   ]
  },
  {
   "cell_type": "code",
   "execution_count": null,
   "metadata": {},
   "outputs": [],
   "source": []
  },
  {
   "cell_type": "code",
   "execution_count": 19,
   "metadata": {},
   "outputs": [
    {
     "data": {
      "image/png": "[encoded data removed]",
      "text/plain": [
       "<Figure size 432x288 with 3 Axes>"
      ]
     },
     "metadata": {},
     "output_type": "display_data"
    }
   ],
   "source": [
    "# 参数有门道\n",
    "plt.subplot(221) # 第一行的左图\n",
    "plt.subplot(222) # 第一行的右图\n",
    "plt.subplot(212) # 第二整行\n",
    "# plt.subplot(111)\n",
    "plt.show()"
   ]
  },
  {
   "cell_type": "code",
   "execution_count": null,
   "metadata": {},
   "outputs": [],
   "source": []
  },
  {
   "cell_type": "markdown",
   "metadata": {},
   "source": [
    "##### 创建矩阵 添加行、列标签         矩阵索引"
   ]
  },
  {
   "cell_type": "code",
   "execution_count": 65,
   "metadata": {},
   "outputs": [
    {
     "data": {
      "text/html": [
       "<div>\n",
       "<style scoped>\n",
       "    .dataframe tbody tr th:only-of-type {\n",
       "        vertical-align: middle;\n",
       "    }\n",
       "\n",
       "    .dataframe tbody tr th {\n",
       "        vertical-align: top;\n",
       "    }\n",
       "\n",
       "    .dataframe thead th {\n",
       "        text-align: right;\n",
       "    }\n",
       "</style>\n",
       "<table border=\"1\" class=\"dataframe\">\n",
       "  <thead>\n",
       "    <tr style=\"text-align: right;\">\n",
       "      <th></th>\n",
       "      <th>c</th>\n",
       "      <th>d</th>\n",
       "      <th>e</th>\n",
       "    </tr>\n",
       "  </thead>\n",
       "  <tbody>\n",
       "    <tr>\n",
       "      <th>a</th>\n",
       "      <td>1</td>\n",
       "      <td>2</td>\n",
       "      <td>3</td>\n",
       "    </tr>\n",
       "    <tr>\n",
       "      <th>b</th>\n",
       "      <td>4</td>\n",
       "      <td>5</td>\n",
       "      <td>6</td>\n",
       "    </tr>\n",
       "  </tbody>\n",
       "</table>\n",
       "</div>"
      ],
      "text/plain": [
       "   c  d  e\n",
       "a  1  2  3\n",
       "b  4  5  6"
      ]
     },
     "execution_count": 65,
     "metadata": {},
     "output_type": "execute_result"
    }
   ],
   "source": [
    "import pandas as pd\n",
    "data=[[1,2,3],[4,5,6]]\n",
    "index=['a','b']#行号\n",
    "columns=['c','d','e']#列号\n",
    "df=pd.DataFrame(data,index=index,columns=columns)#生成一个数据框    index参数是行号\n",
    "df"
   ]
  },
  {
   "cell_type": "raw",
   "metadata": {},
   "source": [
    "loc——通过行标签索引行数据 \n",
    "iloc——通过行号索引行数据 \n",
    "ix——通过行标签或者行号索引行数据（基于loc和iloc 的混合） "
   ]
  },
  {
   "cell_type": "code",
   "execution_count": 70,
   "metadata": {
    "scrolled": true
   },
   "outputs": [
    {
     "name": "stdout",
     "output_type": "stream",
     "text": [
      "c    1\n",
      "d    2\n",
      "e    3\n",
      "Name: a, dtype: int64 \n",
      " c    1\n",
      "d    2\n",
      "e    3\n",
      "Name: a, dtype: int64 \n",
      " c    1\n",
      "d    2\n",
      "e    3\n",
      "Name: a, dtype: int64 \n",
      " c    1\n",
      "d    2\n",
      "e    3\n",
      "Name: a, dtype: int64\n"
     ]
    },
    {
     "name": "stderr",
     "output_type": "stream",
     "text": [
      "D:\\Anaconda\\lib\\site-packages\\ipykernel_launcher.py:1: DeprecationWarning: \n",
      ".ix is deprecated. Please use\n",
      ".loc for label based indexing or\n",
      ".iloc for positional indexing\n",
      "\n",
      "See the documentation here:\n",
      "http://pandas.pydata.org/pandas-docs/stable/indexing.html#ix-indexer-is-deprecated\n",
      "  \"\"\"Entry point for launching an IPython kernel.\n"
     ]
    }
   ],
   "source": [
    "print(df.loc['a'],'\\n',df.iloc[0],'\\n',df.ix[0],'\\n',df.ix['a'])    # 三个函数直接使用都是索引   行"
   ]
  },
  {
   "cell_type": "raw",
   "metadata": {},
   "source": [
    "对列的索引： 三个函数都要用到第二个参数  第一个为 ："
   ]
  },
  {
   "cell_type": "code",
   "execution_count": 75,
   "metadata": {},
   "outputs": [
    {
     "name": "stdout",
     "output_type": "stream",
     "text": [
      "   c  d  e\n",
      "a  1  2  3\n",
      "b  4  5  6 \n",
      " a    1\n",
      "b    4\n",
      "Name: c, dtype: int64 \n",
      " a    1\n",
      "b    4\n",
      "Name: c, dtype: int64 \n",
      " a    1\n",
      "b    4\n",
      "Name: c, dtype: int64\n"
     ]
    },
    {
     "name": "stderr",
     "output_type": "stream",
     "text": [
      "D:\\Anaconda\\lib\\site-packages\\ipykernel_launcher.py:1: DeprecationWarning: \n",
      ".ix is deprecated. Please use\n",
      ".loc for label based indexing or\n",
      ".iloc for positional indexing\n",
      "\n",
      "See the documentation here:\n",
      "http://pandas.pydata.org/pandas-docs/stable/indexing.html#ix-indexer-is-deprecated\n",
      "  \"\"\"Entry point for launching an IPython kernel.\n"
     ]
    }
   ],
   "source": [
    "print(df,'\\n',df.loc[:,'c'],'\\n',df.iloc[:,0],'\\n',df.ix[:,0])"
   ]
  },
  {
   "cell_type": "raw",
   "metadata": {},
   "source": [
    "行、列一起索引     索引一个"
   ]
  },
  {
   "cell_type": "code",
   "execution_count": 80,
   "metadata": {},
   "outputs": [
    {
     "name": "stdout",
     "output_type": "stream",
     "text": [
      "2 \n",
      " <class 'numpy.int64'>\n"
     ]
    }
   ],
   "source": [
    "qwe = df.loc['a','d']    # 可以直接取到单个值\n",
    "print(qwe,'\\n',type(qwe))"
   ]
  },
  {
   "cell_type": "code",
   "execution_count": null,
   "metadata": {},
   "outputs": [],
   "source": [
    "行、列一起索引     索引多行多列"
   ]
  },
  {
   "cell_type": "code",
   "execution_count": 81,
   "metadata": {},
   "outputs": [
    {
     "data": {
      "text/html": [
       "<div>\n",
       "<style scoped>\n",
       "    .dataframe tbody tr th:only-of-type {\n",
       "        vertical-align: middle;\n",
       "    }\n",
       "\n",
       "    .dataframe tbody tr th {\n",
       "        vertical-align: top;\n",
       "    }\n",
       "\n",
       "    .dataframe thead th {\n",
       "        text-align: right;\n",
       "    }\n",
       "</style>\n",
       "<table border=\"1\" class=\"dataframe\">\n",
       "  <thead>\n",
       "    <tr style=\"text-align: right;\">\n",
       "      <th></th>\n",
       "      <th>c</th>\n",
       "      <th>d</th>\n",
       "    </tr>\n",
       "  </thead>\n",
       "  <tbody>\n",
       "    <tr>\n",
       "      <th>a</th>\n",
       "      <td>1</td>\n",
       "      <td>2</td>\n",
       "    </tr>\n",
       "    <tr>\n",
       "      <th>b</th>\n",
       "      <td>4</td>\n",
       "      <td>5</td>\n",
       "    </tr>\n",
       "  </tbody>\n",
       "</table>\n",
       "</div>"
      ],
      "text/plain": [
       "   c  d\n",
       "a  1  2\n",
       "b  4  5"
      ]
     },
     "execution_count": 81,
     "metadata": {},
     "output_type": "execute_result"
    }
   ],
   "source": [
    "df.loc[:,'c':'d']"
   ]
  },
  {
   "cell_type": "code",
   "execution_count": null,
   "metadata": {},
   "outputs": [],
   "source": []
  },
  {
   "cell_type": "code",
   "execution_count": null,
   "metadata": {},
   "outputs": [],
   "source": []
  },
  {
   "cell_type": "code",
   "execution_count": null,
   "metadata": {},
   "outputs": [],
   "source": []
  },
  {
   "cell_type": "code",
   "execution_count": null,
   "metadata": {},
   "outputs": [],
   "source": [
    "# scipy 科学计算的问题\n",
    "'''\n",
    "scipy.cluster 聚类\n",
    "scipy.constants 物理/数学常数\n",
    "scipy.fftpack 傅里叶变换\n",
    "scipy.integrate 积分\n",
    "scipy.interpolate 插值\n",
    "scipy.io 输入输出\n",
    "scipy.linalg 线性代数\n",
    "scipy.ndimage n维图像\n",
    "scipy.odr 正交距离回归\n",
    "scipy.optimize 优化\n",
    "scipy.signal 信号处理\n",
    "scipy.sparse 稀疏矩阵\n",
    "scipy.spatial 空间数据结构和算法\n",
    "scipy.special 特殊数学函数\n",
    "scipy.stats 统计'''\n",
    "\n",
    "\n",
    "https://www.scipy.org/\n",
    "'''"
   ]
  },
  {
   "cell_type": "code",
   "execution_count": null,
   "metadata": {},
   "outputs": [],
   "source": [
    "# 快捷键：Y\\M\\R 装换格式"
   ]
  }
 ],
 "metadata": {
  "kernelspec": {
   "display_name": "Python 3",
   "language": "python",
   "name": "python3"
  },
  "language_info": {
   "codemirror_mode": {
    "name": "ipython",
    "version": 3
   },
   "file_extension": ".py",
   "mimetype": "text/x-python",
   "name": "python",
   "nbconvert_exporter": "python",
   "pygments_lexer": "ipython3",
   "version": "3.6.5"
  }
 },
 "nbformat": 4,
 "nbformat_minor": 2
}
